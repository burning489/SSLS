{
 "cells": [
  {
   "cell_type": "code",
   "execution_count": null,
   "metadata": {},
   "outputs": [],
   "source": [
    "import os\n",
    "import json\n",
    "import pickle\n",
    "import numpy as np\n",
    "import torch\n",
    "import matplotlib.pyplot as plt\n",
    "import matplotlib as mpl\n",
    "\n",
    "device = torch.device(\"cpu\")"
   ]
  },
  {
   "cell_type": "code",
   "execution_count": null,
   "metadata": {},
   "outputs": [],
   "source": [
    "workdir = os.path.join(\n",
    "    os.path.dirname(os.getcwd()),\n",
    "    'lorenz_results/lorenz96-241031-150134',\n",
    ")\n",
    "\n",
    "with open(os.path.join(workdir, 'config.json'), 'r') as f:\n",
    "    cfg = json.load(f)\n",
    "\n",
    "dim = cfg['dynamics']['dim']\n",
    "steps = cfg['dynamics']['steps']\n",
    "dt = cfg['dynamics']['dt']\n",
    "noise_std = cfg['measurement']['noise_std']\n",
    "\n",
    "results = np.load(os.path.join(workdir, 'results.npz'))\n",
    "states = results['states'] # (steps+1, dim)\n",
    "observations = results['observations'] # (steps+1, dim)\n",
    "ssls_states = results['assimilated_states'] # (steps+1, nsamples, dim)\n",
    "\n",
    "ssls_mean = np.mean(ssls_states, axis=1)\n",
    "guess_init = np.ones((1, dim)) * cfg[\"dynamics\"][\"prior_mean\"]\n",
    "ssls_mean = np.concat((guess_init, ssls_mean))\n",
    "\n",
    "results = np.load(f'../lorenz_results/apf_sigma{noise_std}_nensemble{cfg[\"train\"][\"n_train\"]}.npz')\n",
    "apf_states = results['assimilated_states'] # (steps+1, nsamples, dim)\n",
    "apf_mean = np.mean(apf_states, axis=1)\n",
    "apf_mean = np.concat((guess_init, apf_mean))"
   ]
  },
  {
   "cell_type": "code",
   "execution_count": null,
   "metadata": {},
   "outputs": [],
   "source": [
    "with open(\"../asset/Lorenz96_evolution.pkl\", \"rb\") as file:\n",
    "    states, ssls_mean, apf_mean = pickle.load(file)\n",
    "mpl.rcdefaults()\n",
    "mpl.style.use(\"../configs/mplrc\")\n",
    "mpl.rc(\"lines\", linewidth=1.5, marker='o', markersize=4, markerfacecolor='none')\n",
    "\n",
    "\n",
    "d1, d2 = 1, 20\n",
    "markevery = 1\n",
    "start_steps = 0\n",
    "stop_steps = 30\n",
    "\n",
    "fig, ax = plt.subplots(nrows=1, ncols=1, figsize=(7, 3.5))\n",
    "# true trajectory\n",
    "ax.plot(states[:, d1-1][start_steps+1:stop_steps:markevery], states[:, d2-1][start_steps+1:stop_steps:markevery], color='C0', markevery=markevery)\n",
    "# ssls trajectory\n",
    "ax.plot(ssls_mean[:, d1-1][start_steps+1:stop_steps+1:markevery], ssls_mean[:, d2-1][start_steps+1:stop_steps+1:markevery], color='C1', markevery=markevery)\n",
    "# ssls first step trajectory\n",
    "ax.plot(ssls_mean[:, d1-1][start_steps:start_steps+2], ssls_mean[:, d2-1][start_steps:start_steps+2], color='C1')\n",
    "# apf trajectory\n",
    "ax.plot(apf_mean[:, d1-1][start_steps+1:stop_steps+1:markevery], apf_mean[:, d2-1][start_steps+1:stop_steps+1:markevery], color='C2', markevery=markevery)\n",
    "# apf first step trajectory\n",
    "ax.plot(apf_mean[:, d1-1][start_steps:start_steps+2], apf_mean[:, d2-1][start_steps:start_steps+2], color='C2')\n",
    "\n",
    "# mark init\n",
    "ax.scatter(states[:, d1-1][start_steps], states[:, d2-1][start_steps], color='C0', marker='*', s=200, zorder=99, facecolor='none')\n",
    "ax.scatter(ssls_mean[:, d1-1][start_steps], ssls_mean[:, d2-1][start_steps], color='C3', marker='*', s=200, zorder=99, facecolor='none')\n",
    "ax.set_xlabel(r\"$\\bf{x}_{1:30,\" f\"{d1}\" r\"}$\")\n",
    "ax.set_ylabel(r\"$\\bf{x}_{1:30,\" f\"{d2}\" r\"}$\")\n",
    "custom_lines = [\n",
    "    mpl.lines.Line2D([0], [0], color='C0', label='Truth'),\n",
    "    mpl.lines.Line2D([0], [0], marker='*', color='w', markerfacecolor='none', markeredgecolor='C0', markeredgewidth=1, markersize=10, label='True start'),\n",
    "    mpl.lines.Line2D([0], [0], color='C1', label='SSLS'),\n",
    "    mpl.lines.Line2D([0], [0], marker='*', color='w', markerfacecolor='none', markeredgecolor='C3', markeredgewidth=1, markersize=10, label='SSLS/APF start'),\n",
    "    mpl.lines.Line2D([0], [0], color='C2', label='APF'),\n",
    "]\n",
    "ax.legend(handles=custom_lines, bbox_to_anchor=(0.1, 1.0), loc='lower left', ncol=3)\n",
    "plt.savefig('../asset/Lorenz96_trajectory.pdf', dpi=600, bbox_inches='tight', pad_inches=0.1)"
   ]
  },
  {
   "cell_type": "code",
   "execution_count": null,
   "metadata": {},
   "outputs": [],
   "source": []
  }
 ],
 "metadata": {
  "kernelspec": {
   "display_name": "venv",
   "language": "python",
   "name": "python3"
  },
  "language_info": {
   "codemirror_mode": {
    "name": "ipython",
    "version": 3
   },
   "file_extension": ".py",
   "mimetype": "text/x-python",
   "name": "python",
   "nbconvert_exporter": "python",
   "pygments_lexer": "ipython3",
   "version": "3.12.7"
  }
 },
 "nbformat": 4,
 "nbformat_minor": 2
}
