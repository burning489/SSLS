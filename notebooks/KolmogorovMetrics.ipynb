{
 "cells": [
  {
   "cell_type": "code",
   "execution_count": null,
   "metadata": {},
   "outputs": [],
   "source": [
    "import os\n",
    "import sys\n",
    "import pickle\n",
    "import json\n",
    "import numpy as np\n",
    "import torch\n",
    "import matplotlib as mpl\n",
    "import matplotlib.pyplot as plt\n",
    "sys.path.append(os.path.dirname(os.getcwd()))\n",
    "\n",
    "\n",
    "device = torch.device(\"cpu\")"
   ]
  },
  {
   "cell_type": "code",
   "execution_count": null,
   "metadata": {},
   "outputs": [],
   "source": [
    "from src.dynamics import KolmogorovFlow\n",
    "\n",
    "grid_size = 128\n",
    "reynolds = 1e3\n",
    "dt = 0.2\n",
    "seed = 42\n",
    "\n",
    "dynamics = KolmogorovFlow(\n",
    "    grid_size=grid_size,\n",
    "    reynolds=reynolds,\n",
    "    dt=dt,\n",
    "    seed=seed,\n",
    ")\n",
    "\n",
    "folders = [\n",
    "    \"../kolmogorov_results/kolmogorov-241102-050922\",\n",
    "    \"../kolmogorov_results/kolmogorov-241102-050952\",\n",
    "    \"../kolmogorov_results/kolmogorov-241102-045641\",\n",
    "]\n",
    "\n",
    "df = []\n",
    "for workdir in folders:\n",
    "    with open(os.path.join(workdir, 'config.json'), 'r') as f:\n",
    "        cfg = json.load(f)\n",
    "    noise_std = cfg['measurement']['noise_std']\n",
    "    kernel_size = cfg['measurement']['kernel_size']\n",
    "    n_train = cfg['train']['n_train']\n",
    "    results = np.load(os.path.join(workdir, 'results.npz'))\n",
    "    states = results['states'] # (steps, 2, grid_size, grid_size)\n",
    "    assimilated_states = results['assimilated_states'] # (steps, nsamples, 2, grid_size, grid_size)\n",
    "    mean_estimation = np.mean(assimilated_states, axis=1) # (steps, 2, grid_size, grid_size)\n",
    "    average_rmse = np.mean((states - mean_estimation)**2, axis=(1, 2, 3))**0.5 # (steps, )\n",
    "    df.append({\n",
    "        \"kernel_size\": kernel_size,\n",
    "        \"average_rmse\": average_rmse,\n",
    "    })\n",
    "\n",
    "true_init = dynamics.prior(n_sample=1).cpu().numpy() # (1, 2, grid_size, grid_size)\n",
    "guess_init = dynamics.prior(n_sample=cfg[\"train\"][\"n_train\"]).cpu().numpy() # (n_train, 2, grid_size, grid_size)\n",
    "mean_init = np.mean(guess_init, axis=0, keepdims=True) # # (1, 2, grid_size, grid_size)\n",
    "init_rmse = np.mean((mean_init - true_init)**2, axis=(1, 2, 3))**0.5\n",
    "with open(\"../asset/Kolmogorov_metrics.pkl\", \"wb\") as file:\n",
    "    pickle.dump((df, init_rmse), file)"
   ]
  },
  {
   "cell_type": "code",
   "execution_count": null,
   "metadata": {},
   "outputs": [],
   "source": [
    "with open(\"../asset/Kolmogorov_metrics.pkl\", \"rb\") as file:\n",
    "    df, init_rmse = pickle.load(file)\n",
    "mpl.rcdefaults()\n",
    "mpl.style.use(\"../configs/mplrc\")\n",
    "mpl.rc(\"lines\", marker='o', markersize=4, markerfacecolor='none')\n",
    "\n",
    "fig, ax = plt.subplots(nrows=1, ncols=1, figsize=(7, 3))\n",
    "t = np.arange(52) * 0.2\n",
    "for data in df:\n",
    "    ax.plot(t, np.hstack((init_rmse, data[\"average_rmse\"])), label=data[\"kernel_size\"])\n",
    "ax.set_xticks([0, 2, 4, 6, 8, 10])\n",
    "ax.set_xlim([0, 11])\n",
    "ax.grid(linestyle=':', alpha=0.8)\n",
    "ax.legend(title=\"AvgPool scale\")\n",
    "ax.set_xlabel(\"Time step\")\n",
    "ax.set_ylabel(\"RMSE\")\n",
    "ax.set_yscale('log')\n",
    "plt.savefig('../asset/Kolmogorov_metrics.pdf', dpi=600, bbox_inches='tight', pad_inches=0.1)"
   ]
  },
  {
   "cell_type": "code",
   "execution_count": null,
   "metadata": {},
   "outputs": [],
   "source": []
  }
 ],
 "metadata": {
  "kernelspec": {
   "display_name": "venv",
   "language": "python",
   "name": "python3"
  },
  "language_info": {
   "codemirror_mode": {
    "name": "ipython",
    "version": 3
   },
   "file_extension": ".py",
   "mimetype": "text/x-python",
   "name": "python",
   "nbconvert_exporter": "python",
   "pygments_lexer": "ipython3",
   "version": "3.12.7"
  }
 },
 "nbformat": 4,
 "nbformat_minor": 2
}
