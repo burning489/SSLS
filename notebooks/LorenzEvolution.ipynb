{
 "cells": [
  {
   "cell_type": "code",
   "execution_count": null,
   "metadata": {},
   "outputs": [],
   "source": [
    "import os\n",
    "import json\n",
    "import pickle\n",
    "import numpy as np\n",
    "import torch\n",
    "import matplotlib.pyplot as plt\n",
    "import matplotlib as mpl\n",
    "\n",
    "device = torch.device(\"cpu\")"
   ]
  },
  {
   "cell_type": "code",
   "execution_count": null,
   "metadata": {},
   "outputs": [],
   "source": [
    "workdir = os.path.join(\n",
    "    os.path.dirname(os.getcwd()),\n",
    "    'lorenz_results/lorenz96-241031-150134',\n",
    ")\n",
    "\n",
    "with open(os.path.join(workdir, 'config.json'), 'r') as f:\n",
    "    cfg = json.load(f)\n",
    "\n",
    "dim = cfg['dynamics']['dim']\n",
    "steps = cfg['dynamics']['steps']\n",
    "dt = cfg['dynamics']['dt']\n",
    "noise_std = cfg['measurement']['noise_std'] # 0.5\n",
    "n_train = cfg[\"train\"][\"n_train\"] # 500\n",
    "\n",
    "results = np.load(os.path.join(workdir, 'results.npz'))\n",
    "states = results['states'] # (steps+1, dim)\n",
    "observations = results['observations'] # (steps+1, dim)\n",
    "ssls_states = results['assimilated_states'] # (steps+1, nsamples, dim)\n",
    "ssls_mean = np.mean(ssls_states, axis=1)\n",
    "guess_init = np.ones((1, dim)) * cfg[\"dynamics\"][\"prior_mean\"]\n",
    "ssls_mean = np.concat((guess_init, ssls_mean))\n",
    "\n",
    "results = np.load(f'../lorenz_results/apf_sigma0.5_nensemble500.npz')\n",
    "apf_states = results['assimilated_states'] # (steps+1, nsamples, dim)\n",
    "apf_mean = np.mean(apf_states, axis=1)\n",
    "guess_init = np.ones((1, dim)) * cfg[\"dynamics\"][\"prior_mean\"]\n",
    "apf_mean = np.concat((guess_init, apf_mean))\n",
    "\n",
    "with open(\"../asset/Lorenz96_evolution.pkl\", \"wb\") as file:\n",
    "    pickle.dump((states, ssls_mean, apf_mean), file)"
   ]
  },
  {
   "cell_type": "code",
   "execution_count": null,
   "metadata": {},
   "outputs": [],
   "source": [
    "with open(\"../asset/Lorenz96_evolution.pkl\", \"rb\") as file:\n",
    "    states, ssls_mean, apf_mean = pickle.load(file)\n",
    "\n",
    "mpl.rcdefaults()\n",
    "mpl.style.use(\"../configs/mplrc\")\n",
    "mpl.rc(\"figure.subplot\", wspace=0.2, hspace=0.6)\n",
    "\n",
    "markevery = 1\n",
    "\n",
    "t = np.arange(100+2) * 0.05\n",
    "\n",
    "fig, axes = plt.subplots(nrows=3, ncols=3, figsize=(7, 4))\n",
    "for i in range(3):\n",
    "    ax = axes[i]\n",
    "    for j in range(3):\n",
    "        axj = ax[j]\n",
    "        axj.scatter(t[1::markevery], states[:, j+3*i][::markevery], label='Truth', color='C0', marker='o', facecolors='none', s=4, linewidths=1.)\n",
    "        axj.plot(t, ssls_mean[:, j+3*i], label='SSLS', color='C1', markevery=markevery)\n",
    "        axj.plot(t, apf_mean[:, j+3*i], label='APF', color='C2', markevery=markevery)\n",
    "        axj.set_title(r\"$\\bf{x_{\" f\"{i*3+j+1}\" r\"}}$\")\n",
    "        axj.set_xlim([0, 5.1])\n",
    "        axj.set_xticks([0, 1, 2, 3, 4, 5])\n",
    "axes[0][1].legend(bbox_to_anchor=(0.2, 1.3), loc='lower left', ncol=3)\n",
    "plt.text(0.08, 0.5, 'State', transform=plt.gcf().transFigure, fontsize=9, rotation='vertical')\n",
    "plt.text(0.43, 0.03, 'Time step', transform=plt.gcf().transFigure, fontsize=9)\n",
    "plt.savefig('../asset/Lorenz96_evolution.pdf', dpi=600, bbox_inches='tight', pad_inches=0.1)"
   ]
  },
  {
   "cell_type": "code",
   "execution_count": null,
   "metadata": {},
   "outputs": [],
   "source": []
  }
 ],
 "metadata": {
  "kernelspec": {
   "display_name": "venv",
   "language": "python",
   "name": "python3"
  },
  "language_info": {
   "codemirror_mode": {
    "name": "ipython",
    "version": 3
   },
   "file_extension": ".py",
   "mimetype": "text/x-python",
   "name": "python",
   "nbconvert_exporter": "python",
   "pygments_lexer": "ipython3",
   "version": "3.12.7"
  }
 },
 "nbformat": 4,
 "nbformat_minor": 2
}
