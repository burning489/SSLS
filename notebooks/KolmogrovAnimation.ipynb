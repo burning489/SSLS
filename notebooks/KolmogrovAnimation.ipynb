{
 "cells": [
  {
   "cell_type": "code",
   "execution_count": 2,
   "metadata": {},
   "outputs": [],
   "source": [
    "import os\n",
    "import sys\n",
    "import pickle\n",
    "import json\n",
    "import numpy as np\n",
    "import torch\n",
    "import matplotlib as mpl\n",
    "import matplotlib.pyplot as plt\n",
    "import matplotlib.animation as animation\n",
    "import seaborn as sns\n",
    "sys.path.append(os.path.dirname(os.getcwd()))\n",
    "\n",
    "device = torch.device(\"cpu\")"
   ]
  },
  {
   "cell_type": "code",
   "execution_count": 10,
   "metadata": {},
   "outputs": [],
   "source": [
    "with open(\"../asset/Kolmogorov_evolution.pkl\", \"rb\") as file:\n",
    "    df, states_vorticity = pickle.load(file)\n",
    "\n",
    "mpl.rcdefaults()\n",
    "mpl.style.use(\"../configs/mplrc\")\n",
    "mpl.rc(\"figure.subplot\", wspace=0.25)\n",
    "mpl.rc(\"axes.spines\", bottom=False, left=False)\n",
    "\n",
    "titles = [\"Low-resolution\\nobservations\", \"Grid sparse\\nobservations\", \"Partial\\nobservations\"]\n",
    "\n",
    "for title, fname, data in zip(titles, [\"AvgPool\", \"GridMask\", \"CenterMask\"], df):\n",
    "    observations_vorticity = data[\"observations_vorticity\"]\n",
    "    mean_vorticity = data[\"mean_vorticity\"]\n",
    "    nrows = 1\n",
    "    ncols = 3\n",
    "    fig, axes = plt.subplots(\n",
    "        nrows=nrows,\n",
    "        ncols=ncols, \n",
    "        figsize=(6, 3),\n",
    "    )\n",
    "\n",
    "    vmin_state, vmax_state = -0.6, 0.6\n",
    "    state_norm = mpl.colors.Normalize(vmin=vmin_state, vmax=vmax_state)\n",
    "\n",
    "    for ax in axes:\n",
    "        ax.xaxis.set_visible(False)\n",
    "        ax.yaxis.set_ticks([])\n",
    "\n",
    "    ims = []\n",
    "    for i in range(51):\n",
    "        im_ref = axes[0].imshow(states_vorticity[i], cmap=sns.cm.icefire, norm=state_norm)\n",
    "        axes[0].set_title(\"Ref. state\")\n",
    "        im_obs = axes[1].imshow(observations_vorticity[i], cmap=sns.cm.icefire)\n",
    "        axes[1].set_title(title)\n",
    "        im_ssls = axes[2].imshow(mean_vorticity[i], cmap=sns.cm.icefire, norm=state_norm)\n",
    "        axes[2].set_title(\"SSLS\")\n",
    "        ims.append((im_ref, im_obs, im_ssls))\n",
    "\n",
    "    ani = animation.ArtistAnimation(fig, ims, interval=100, blit=True, repeat_delay=1000)\n",
    "    writer = animation.PillowWriter(fps=10, bitrate=1800)\n",
    "    ani.save(f\"../asset/{fname}.gif\", writer=writer, dpi=100)\n",
    "    # writer = animation.FFMpegWriter(fps=10, bitrate=1800)\n",
    "    # ani.save(f\"../asset/{fname}.mp4\", writer=writer)\n",
    "\n",
    "    plt.close()"
   ]
  },
  {
   "cell_type": "code",
   "execution_count": null,
   "metadata": {},
   "outputs": [],
   "source": []
  }
 ],
 "metadata": {
  "kernelspec": {
   "display_name": "venv",
   "language": "python",
   "name": "python3"
  },
  "language_info": {
   "codemirror_mode": {
    "name": "ipython",
    "version": 3
   },
   "file_extension": ".py",
   "mimetype": "text/x-python",
   "name": "python",
   "nbconvert_exporter": "python",
   "pygments_lexer": "ipython3",
   "version": "3.12.7"
  }
 },
 "nbformat": 4,
 "nbformat_minor": 2
}
