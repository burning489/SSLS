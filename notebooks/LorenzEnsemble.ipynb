{
 "cells": [
  {
   "cell_type": "code",
   "execution_count": null,
   "metadata": {},
   "outputs": [],
   "source": [
    "import os\n",
    "import json\n",
    "import pickle\n",
    "import numpy as np\n",
    "import torch\n",
    "import matplotlib.pyplot as plt\n",
    "import matplotlib as mpl\n",
    "\n",
    "device = torch.device(\"cpu\")"
   ]
  },
  {
   "cell_type": "code",
   "execution_count": null,
   "metadata": {},
   "outputs": [],
   "source": [
    "workdir = os.path.join(\n",
    "    os.path.dirname(os.getcwd()),\n",
    "    'lorenz_results/lorenz96-241031-150134',\n",
    ")\n",
    "\n",
    "with open(os.path.join(workdir, 'config.json'), 'r') as f:\n",
    "    cfg = json.load(f)\n",
    "\n",
    "dim = cfg['dynamics']['dim']\n",
    "steps = cfg['dynamics']['steps']\n",
    "dt = cfg['dynamics']['dt']\n",
    "noise_std = cfg['measurement']['noise_std']\n",
    "\n",
    "results = np.load(os.path.join(workdir, 'results.npz'))\n",
    "states = results['states'] # (steps+1, dim)\n",
    "observations = results['observations'] # (steps+1, dim)\n",
    "ssls_states = results['assimilated_states'] # (steps+1, nsamples, dim)\n",
    "guess_init = np.ones((1, cfg[\"train\"][\"n_train\"], dim)) * cfg[\"dynamics\"][\"prior_mean\"]\n",
    "guess_init += np.random.randn(*guess_init.shape) * cfg[\"dynamics\"][\"prior_std\"]\n",
    "ssls_states = np.concat((guess_init, ssls_states), axis=0)\n",
    "ssls_mean = np.mean(ssls_states, axis=1)\n",
    "\n",
    "results = np.load(f'../lorenz_results/apf_sigma{noise_std}_nensemble{cfg[\"train\"][\"n_train\"]}.npz')\n",
    "apf_states = results['assimilated_states'] # (steps+1, nsamples, dim)\n",
    "apf_states = np.concat((guess_init, apf_states), axis=0)\n",
    "apf_mean = np.mean(apf_states, axis=1)\n",
    "\n",
    "with open(\"../asset/Lorenz96_ensemble.pkl\", \"wb\") as file:\n",
    "    pickle.dump((states, ssls_states, apf_states), file)"
   ]
  },
  {
   "cell_type": "code",
   "execution_count": null,
   "metadata": {},
   "outputs": [],
   "source": [
    "with open(\"../asset/Lorenz96_ensemble.pkl\", \"rb\") as file:\n",
    "    states, ssls_states, apf_states = pickle.load(file)\n",
    "mpl.rcdefaults()\n",
    "mpl.style.use(\"../configs/mplrc\")\n",
    "marker_style = {\n",
    "    \"marker\": 'o',\n",
    "    \"markersize\": 3,\n",
    "    \"markerfacecolor\": (0, 0, 0, 0),\n",
    "    \"markeredgecolor\": 'C0',\n",
    "    \"markeredgewidth\": 0.8\n",
    "}\n",
    "\n",
    "t = np.arange(100+2)\n",
    "markevery = 1\n",
    "\n",
    "fig, ax = plt.subplots(nrows=1, ncols=1, figsize=(7, 2.5))\n",
    "ax.plot(t[1::markevery], states[:, -1][::markevery], color='C0', markevery=markevery, zorder=99, **marker_style)\n",
    "ax.plot(t[::markevery], ssls_states[:, :, -1][::markevery], color='C1', alpha=0.1, linewidth=0.2, markevery=markevery, rasterized=True)\n",
    "ax.plot(t[::markevery], apf_states[:, :, -1][::markevery], color='C2', alpha=0.1, linewidth=0.2, markevery=markevery, rasterized=True)\n",
    "ax.set_xlim(left=0)\n",
    "custom_lines = [\n",
    "    mpl.lines.Line2D([0], [0], color='C0', label='Ref. state', **marker_style),\n",
    "    mpl.lines.Line2D([0], [0], color='C1', label='SSLS ensemble'),\n",
    "    mpl.lines.Line2D([0], [0], color='C2', label='APF ensemble'),\n",
    "]\n",
    "ax.legend(handles=custom_lines, bbox_to_anchor=(0.1, 1.0), loc='lower left', ncol=3)\n",
    "ax.set_xlabel('Time step')\n",
    "ax.set_ylabel('10th dimension')\n",
    "plt.savefig('../asset/Lorenz96_ensemble.pdf', dpi=600, bbox_inches='tight', pad_inches=0.1)"
   ]
  },
  {
   "cell_type": "code",
   "execution_count": null,
   "metadata": {},
   "outputs": [],
   "source": []
  }
 ],
 "metadata": {
  "kernelspec": {
   "display_name": "venv",
   "language": "python",
   "name": "python3"
  },
  "language_info": {
   "codemirror_mode": {
    "name": "ipython",
    "version": 3
   },
   "file_extension": ".py",
   "mimetype": "text/x-python",
   "name": "python",
   "nbconvert_exporter": "python",
   "pygments_lexer": "ipython3",
   "version": "3.12.7"
  }
 },
 "nbformat": 4,
 "nbformat_minor": 2
}
